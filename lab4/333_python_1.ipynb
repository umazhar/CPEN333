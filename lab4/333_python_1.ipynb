{
 "cells": [
  {
   "cell_type": "markdown",
   "id": "68f85138",
   "metadata": {},
   "source": [
    "## Hello world!\n",
    "\n",
    "We can just use the built-in print() function to implement the infamous hello world program.\n",
    "As you can see below we can use ' or \" to specify the Hello world string in print().\n",
    "\n",
    "We will use \" (for compatibility with other languages), and use ' only if needed."
   ]
  },
  {
   "cell_type": "code",
   "execution_count": null,
   "id": "dc24ef24",
   "metadata": {},
   "outputs": [],
   "source": [
    "print('Hello world')\n",
    "print(\"Hello world\")"
   ]
  },
  {
   "cell_type": "markdown",
   "id": "6a8c26fd",
   "metadata": {},
   "source": [
    "## Comments\n",
    "\n",
    "We use # for a comment. The comment starts from # till the end of the line."
   ]
  },
  {
   "cell_type": "code",
   "execution_count": null,
   "id": "e7b839cc",
   "metadata": {},
   "outputs": [],
   "source": [
    "# this is a single-line comment in Python\n",
    "\n",
    "print(\"Another placement of a comment\") # this is also a comment"
   ]
  },
  {
   "cell_type": "markdown",
   "id": "2bb7b0bd",
   "metadata": {},
   "source": [
    "For multiple line comments, we can just use # multiple times.\n",
    "\n",
    "Or we can use ''' (triple quotes) or \"\"\" (triple double quotes) --> this is usally used for documentation comments."
   ]
  },
  {
   "cell_type": "code",
   "execution_count": null,
   "id": "270ece8f",
   "metadata": {},
   "outputs": [],
   "source": [
    "\"\"\"\n",
    "This is another form of commenting\n",
    "for muliple-line comments in python\n",
    "\"\"\""
   ]
  },
  {
   "cell_type": "markdown",
   "id": "65697d7e",
   "metadata": {},
   "source": [
    "## Variables\n",
    "\n",
    "Unlike C, C# ..., in python we don't have to specify the type of a variable when we use it.\n",
    "\n",
    "Note that python infers here that the type of x is int. In python all types (even int) are objects."
   ]
  },
  {
   "cell_type": "code",
   "execution_count": null,
   "id": "4abf19a9",
   "metadata": {},
   "outputs": [],
   "source": [
    "x1 = 2\n",
    "print(x1, \", \", type(x1))  "
   ]
  },
  {
   "cell_type": "code",
   "execution_count": null,
   "id": "ab94b955",
   "metadata": {},
   "outputs": [],
   "source": [
    "x2 = \"hello world\"\n",
    "print(x2, \", \", type(x2)) "
   ]
  },
  {
   "cell_type": "code",
   "execution_count": null,
   "id": "cd8bb617",
   "metadata": {},
   "outputs": [],
   "source": [
    "x3 = 3.14\n",
    "x3, type(x3)  #this would also work"
   ]
  },
  {
   "cell_type": "markdown",
   "id": "1f522770",
   "metadata": {},
   "source": [
    "## Type hint\n",
    "\n",
    "However, it is a good idea to use the python's type hint to explicitly state the type of the variable.\n",
    "This makes the code more readable and also allows dome type checking."
   ]
  },
  {
   "cell_type": "code",
   "execution_count": null,
   "id": "5e1b59f4",
   "metadata": {},
   "outputs": [],
   "source": [
    "x4 : int = 2\n",
    "x5 : str = \"nothing really\"\n",
    "x6 : float #assing a value later\n",
    "x6 = 3.14\n",
    "print(f\"{x4}, {type(x4)}, {x5}, {type(x5)}, {x6}, {type(x6)}\")\n"
   ]
  },
  {
   "cell_type": "markdown",
   "id": "06bd2db9",
   "metadata": {},
   "source": [
    "## String interpolation\n",
    "\n",
    "The following is the most straightforward way for string interpolation. Of course, there are alternatives to achieving the same code.\n",
    "\n",
    "Note that due to the floating point calculation error, we don't get 5.14 exactly."
   ]
  },
  {
   "cell_type": "code",
   "execution_count": null,
   "id": "47d526e8",
   "metadata": {},
   "outputs": [],
   "source": [
    "print(f\"This is string interpolation {x1} + {x3} = {x1 + x3}\")"
   ]
  },
  {
   "cell_type": "code",
   "execution_count": null,
   "id": "6cae511f",
   "metadata": {},
   "outputs": [],
   "source": [
    "print(f\"We can set the width or precision too: {x1} + {x3} = {x1 + x3:.2f}\")"
   ]
  },
  {
   "cell_type": "markdown",
   "id": "d681e07b",
   "metadata": {},
   "source": [
    "## User input\n",
    "\n",
    "We can use the built-in function input to get user input in command line. Note that the input returns a string."
   ]
  },
  {
   "cell_type": "code",
   "execution_count": null,
   "id": "af536f2d",
   "metadata": {},
   "outputs": [],
   "source": [
    "firstname = input(\"What is your firstname? \")\n",
    "print(f\"Your firstname is {firstname}\")"
   ]
  },
  {
   "cell_type": "code",
   "execution_count": null,
   "id": "fdd970b0",
   "metadata": {},
   "outputs": [],
   "source": [
    "x = input(\"Enter an integer between 1 and 10: \")\n",
    "print(x+1) #this will generate an error"
   ]
  },
  {
   "cell_type": "code",
   "execution_count": null,
   "id": "956474a7",
   "metadata": {},
   "outputs": [],
   "source": [
    "x = eval(input(\"Enter an integer between 1 and 10: \"))\n",
    "print(x+1) # this is ok, x is not a string anymore"
   ]
  },
  {
   "cell_type": "markdown",
   "id": "eefcdce4",
   "metadata": {},
   "source": [
    "## Variable scope\n",
    "\n",
    "Examples below compare global verus local scope. "
   ]
  },
  {
   "cell_type": "code",
   "execution_count": null,
   "id": "6ea1f57d",
   "metadata": {},
   "outputs": [],
   "source": [
    "x = 2 #global scope\n",
    "\n",
    "def foo():\n",
    "    print(x) # this x is the same as the global variable x\n",
    "\n",
    "foo() #prints 2"
   ]
  },
  {
   "cell_type": "code",
   "execution_count": null,
   "id": "34cfa402",
   "metadata": {},
   "outputs": [],
   "source": [
    "x = 2 #global scope\n",
    "\n",
    "def foo():\n",
    "    x = 3 # this x has a local scope\n",
    "    print(x) \n",
    "\n",
    "foo() #prints 3\n",
    "print(x) #prints 2"
   ]
  },
  {
   "cell_type": "code",
   "execution_count": null,
   "id": "430ca484",
   "metadata": {},
   "outputs": [],
   "source": [
    "x = 2 #global scope\n",
    "\n",
    "def foo():\n",
    "    global x # we are indicating that this is a global variable\n",
    "    x = 3 # so this x is the same as the \n",
    "    print(x) \n",
    "\n",
    "foo() #prints 3\n",
    "print (x) #prints 3"
   ]
  },
  {
   "cell_type": "markdown",
   "id": "a97105f1",
   "metadata": {},
   "source": [
    "## parctice on your own\n",
    "\n",
    "Use the cell below to practice. Write code using if (slection), for (loops), function, ... and test.\n",
    "\n",
    "You can add more cells as you need."
   ]
  },
  {
   "cell_type": "code",
   "execution_count": null,
   "id": "ee36bbef",
   "metadata": {},
   "outputs": [],
   "source": []
  }
 ],
 "metadata": {
  "kernelspec": {
   "display_name": "Python 3 (ipykernel)",
   "language": "python",
   "name": "python3"
  },
  "language_info": {
   "codemirror_mode": {
    "name": "ipython",
    "version": 3
   },
   "file_extension": ".py",
   "mimetype": "text/x-python",
   "name": "python",
   "nbconvert_exporter": "python",
   "pygments_lexer": "ipython3",
   "version": "3.9.7"
  }
 },
 "nbformat": 4,
 "nbformat_minor": 5
}
